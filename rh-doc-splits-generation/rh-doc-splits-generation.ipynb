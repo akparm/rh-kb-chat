{
 "cells": [
  {
   "cell_type": "markdown",
   "id": "bb6d3a63",
   "metadata": {},
   "source": [
    "## Red Hat documentation splits generator\n",
    "\n",
    "This notebook shows how to generates splits for a Red Hat product documentation."
   ]
  },
  {
   "cell_type": "code",
   "execution_count": null,
   "id": "55c77c4a",
   "metadata": {},
   "outputs": [],
   "source": [
    "# If you don't have the needed libraries, install them with:\n",
    "# !pip install -r requirements.txt"
   ]
  },
  {
   "cell_type": "code",
   "execution_count": null,
   "id": "4adbeacb-f78b-41bf-b33b-37163188a112",
   "metadata": {
    "tags": []
   },
   "outputs": [],
   "source": [
    "import rh_documentation_processing as rhdp"
   ]
  },
  {
   "cell_type": "code",
   "execution_count": null,
   "id": "456bae8d",
   "metadata": {},
   "outputs": [],
   "source": [
    "# Set the variables for the documentation\n",
    "# For this example the original URL was: https://access.redhat.com/documentation/en-us/red_hat_openshift_ai_self-managed/2.8\n",
    "# You must extract the following information from the URL:\n",
    "\n",
    "product = 'red_hat_openshift_ai_self-managed' # The second last part of the URL\n",
    "product_full_name = 'Red Hat OpenShift AI Self-Managed' # From the Web Page\n",
    "version = '2.8' # The last part of the URL\n",
    "language = 'en-US' # The language of the documentation"
   ]
  },
  {
   "cell_type": "code",
   "execution_count": null,
   "id": "dcac987e",
   "metadata": {},
   "outputs": [],
   "source": [
    "# Generate the splits\n",
    "\n",
    "splits = rhdp.generate_splits(product, product_full_name, version, language)"
   ]
  },
  {
   "cell_type": "code",
   "execution_count": null,
   "id": "7768f97a",
   "metadata": {},
   "outputs": [],
   "source": [
    "# Print the splits\n",
    "\n",
    "for split in splits:\n",
    "    print(f\"Metadata: {split.metadata}\")\n",
    "    print(f\"Page Content:\\n-------------\\n{split.page_content}\")\n",
    "    print(\"\\n\")"
   ]
  }
 ],
 "metadata": {
  "kernelspec": {
   "display_name": "Python 3.9",
   "language": "python",
   "name": "python3"
  },
  "language_info": {
   "codemirror_mode": {
    "name": "ipython",
    "version": 3
   },
   "file_extension": ".py",
   "mimetype": "text/x-python",
   "name": "python",
   "nbconvert_exporter": "python",
   "pygments_lexer": "ipython3",
   "version": "3.11.7"
  }
 },
 "nbformat": 4,
 "nbformat_minor": 5
}
